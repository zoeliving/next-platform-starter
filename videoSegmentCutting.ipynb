{
  "cells": [
    {
      "cell_type": "markdown",
      "metadata": {
        "id": "view-in-github",
        "colab_type": "text"
      },
      "source": [
        "<a href=\"https://colab.research.google.com/github/zoeliving/next-platform-starter/blob/main/videoSegmentCutting.ipynb\" target=\"_parent\"><img src=\"https://colab.research.google.com/assets/colab-badge.svg\" alt=\"Open In Colab\"/></a>"
      ]
    },
    {
      "cell_type": "code",
      "execution_count": 24,
      "metadata": {
        "colab": {
          "base_uri": "https://localhost:8080/"
        },
        "id": "gvzrnNOlvyf4",
        "outputId": "6f1810ef-0ea2-42b0-b92a-b4ff77d25e3f"
      },
      "outputs": [
        {
          "output_type": "stream",
          "name": "stdout",
          "text": [
            "Requirement already satisfied: ffmpeg-python in /usr/local/lib/python3.10/dist-packages (0.2.0)\n",
            "Requirement already satisfied: future in /usr/local/lib/python3.10/dist-packages (from ffmpeg-python) (1.0.0)\n",
            "Reading package lists... Done\n",
            "Building dependency tree... Done\n",
            "Reading state information... Done\n",
            "ffmpeg is already the newest version (7:4.4.2-0ubuntu0.22.04.1).\n",
            "0 upgraded, 0 newly installed, 0 to remove and 49 not upgraded.\n"
          ]
        }
      ],
      "source": [
        "# Install ffmpeg-python (Python wrapper for ffmpeg)\n",
        "!pip install ffmpeg-python\n",
        "!apt-get install ffmpeg\n"
      ]
    },
    {
      "cell_type": "code",
      "execution_count": 25,
      "metadata": {
        "colab": {
          "base_uri": "https://localhost:8080/"
        },
        "id": "ypswWYARigQO",
        "outputId": "aeeb4f6f-767a-4ddc-8cd3-55cc31bafec2"
      },
      "outputs": [
        {
          "output_type": "stream",
          "name": "stdout",
          "text": [
            "Where would you like to store output? (Enter 'gdrive' for Google Drive or 'local' for your computer): gdrive\n",
            "Drive already mounted at /content/drive; to attempt to forcibly remount, call drive.mount(\"/content/drive\", force_remount=True).\n",
            "Enter the project folder name for Google Drive storage: Dr Karen Kan & David Schmidt: Advanced Protocols\n",
            "Output will be stored in Google Drive at: /content/drive/My Drive/Dr Karen Kan & David Schmidt: Advanced Protocols/video_segments/\n",
            "Contents of My Drive:\n",
            "'Colab Notebooks'\t\t\t     'Dr Karen Kan & David Schmidt: Advanced Protocols'\n",
            "'Dr Kan & David Schmidt Advanced Protocols'   video_clips\n"
          ]
        }
      ],
      "source": [
        "# Mount Google Drive:\n",
        "# Ensures that Colab can access files in your Google Drive.\n",
        "from google.colab import files, drive\n",
        "import os\n",
        "\n",
        "# Step 1: Ask for output storage preference\n",
        "output_location = input(\"Where would you like to store output? (Enter 'gdrive' for Google Drive or 'local' for your computer): \").strip().lower()\n",
        "\n",
        "# Initialize output directory path\n",
        "if output_location == \"gdrive\":\n",
        "    # Mount Google Drive\n",
        "    drive.mount('/content/drive')\n",
        "\n",
        "    # Ask for project folder name in Google Drive\n",
        "    project_name = input(\"Enter the project folder name for Google Drive storage: \").strip()\n",
        "    output_dir = f\"/content/drive/My Drive/{project_name}/video_segments/\"\n",
        "    os.makedirs(output_dir, exist_ok=True)\n",
        "    print(f\"Output will be stored in Google Drive at: {output_dir}\")\n",
        "\n",
        "elif output_location == \"local\":\n",
        "    # Ask user to specify output directory on their computer\n",
        "    output_dir = \"/content/video_segments/\"\n",
        "    os.makedirs(output_dir, exist_ok=True)\n",
        "    print(f\"Output will be stored temporarily in Colab. You can download files from: {output_dir}\")\n",
        "\n",
        "else:\n",
        "    print(\"Invalid choice. Please enter 'gdrive' or 'local'.\")\n",
        "    raise SystemExit\n",
        "\n",
        "\n",
        "# Verify the directory\n",
        "print(\"Contents of My Drive:\")\n",
        "!ls \"/content/drive/My Drive/\"\n"
      ]
    },
    {
      "cell_type": "code",
      "source": [
        "# Step 2: Ask for input file source\n",
        "input_location = input(\"Where are your input files located? (Enter 'gdrive' for Google Drive or 'local' to upload from your computer): \").strip().lower()\n",
        "\n",
        "# Initialize input paths\n",
        "if input_location == \"gdrive\":\n",
        "    # Get video and CSV filenames from Google Drive\n",
        "    video_filename = input(\"Enter the name of the video file in Google Drive (e.g., video.mp4): \").strip()\n",
        "    csv_filename = input(\"Enter the name of the CSV file in Google Drive (e.g., segments.csv): \").strip()\n",
        "    input_video_path = f\"/content/drive/My Drive/{project_name}/{video_filename}\"\n",
        "    csv_path = f\"/content/drive/My Drive/{project_name}/{csv_filename}\"\n",
        "    print(f\"Using input files from Google Drive at:\\n Video: {input_video_path}\\n CSV: {csv_path}\")\n",
        "\n",
        "elif input_location == \"local\":\n",
        "    # Upload video file\n",
        "    print(\"Please upload the video file from your computer.\")\n",
        "    uploaded_video = files.upload()\n",
        "    video_filename = list(uploaded_video.keys())[0]\n",
        "    input_video_path = f\"/content/{video_filename}\"\n",
        "\n",
        "    # Upload CSV file\n",
        "    print(\"Please upload the CSV file from your computer.\")\n",
        "    uploaded_csv = files.upload()\n",
        "    csv_filename = list(uploaded_csv.keys())[0]\n",
        "    csv_path = f\"/content/{csv_filename}\"\n",
        "\n",
        "    print(f\"Using input files uploaded from your computer:\\n Video: {input_video_path}\\n CSV: {csv_path}\")\n",
        "\n",
        "else:\n",
        "    print(\"Invalid choice. Please enter 'gdrive' or 'local'.\")\n",
        "    raise SystemExit\n",
        "\n",
        "# Final confirmation\n",
        "print(f\"Project setup complete:\\n Input Video Path: {input_video_path}\\n CSV Path: {csv_path}\\n Output Directory: {output_dir}\")"
      ],
      "metadata": {
        "id": "q0MwqrKcMmOg"
      },
      "execution_count": null,
      "outputs": []
    },
    {
      "cell_type": "code",
      "execution_count": null,
      "metadata": {
        "id": "8kk4OC0xeazF"
      },
      "outputs": [],
      "source": [
        "from moviepy.video.io.ffmpeg_tools import ffmpeg_extract_subclip\n",
        "import pandas as pd\n",
        "from moviepy.video.io.ffmpeg_tools import ffmpeg_extract_subclip\n",
        "\n",
        "# Define paths for input files\n",
        "# Specify the path for the CSV and the video file\n",
        "csv_path = \"/content/drive/My Drive/segments.csv\"  # Replace with your actual path\n",
        "input_video_path = \"/content/drive/My Drive/input_video.mp4\"  # Replace with your actual path\n",
        "\n",
        "# Flexible time parsing function\n",
        "def time_to_seconds(time_str):\n",
        "    try:\n",
        "        # Try parsing as 'hh:mm:ss'\n",
        "        time_obj = datetime.strptime(time_str, '%H:%M:%S')\n",
        "        return time_obj.hour * 3600 + time_obj.minute * 60 + time_obj.second\n",
        "    except ValueError:\n",
        "        # Fallback to 'mm:ss' if no hours present\n",
        "        time_obj = datetime.strptime(time_str, '%M:%S')\n",
        "        return time_obj.minute * 60 + time_obj.second\n",
        "\n",
        "# Read CSV file for segment details\n",
        "segments_df = pd.read_csv(csv_path)\n"
      ]
    },
    {
      "cell_type": "code",
      "execution_count": null,
      "metadata": {
        "colab": {
          "base_uri": "https://localhost:8080/",
          "height": 213
        },
        "id": "WQwSuCIkzC2h",
        "outputId": "12bcf7df-77e1-489c-f909-ef04ebe2d1e2"
      },
      "outputs": [
        {
          "data": {
            "application/vnd.google.colaboratory.intrinsic+json": {
              "type": "string"
            },
            "text/plain": [
              "' Explanation of the Code Sharpening:\\n\\nThe sharpen_video function uses ffmpeg-python to apply an unsharp filter. Adjust the parameters:\\nluma_msize_x and luma_msize_y: Control the matrix size for sharpening.\\nluma_amount: Controls the sharpness intensity. Increase for more sharpening (e.g., 1.5 to 2).\\nSplitting:\\n\\nThe split_video function reads the CSV and uses the sharpened video as input for segment extraction.\\nParameters in the unsharp Filter\\nluma_msize_x and luma_msize_y: Define the size of the blur kernel. Larger values\\n apply more significant blurring, which is then subtracted to enhance edges.\\nluma_amount: Controls the intensity of sharpening. A value of 1.0 is neutral; \\nvalues above 1.0 increase sharpness.\\n\\nRunning the Code\\nUpload your files (segments.csv and input_video.mp4) to Google Drive.\\nUpdate csv_path, input_video_path, and other paths in the code as needed.\\nRun all cells in the notebook. The code will create a sharpened version of the input video, then save each segment from the sharpened video.\\n\\nNotes\\nPerformance: Sharpening can be resource-intensive, but the free Colab CPU runtime can handle moderate sharpening tasks.\\nAdjust Sharpening: Experiment with luma_amount to control sharpness. Lower values may help avoid over-sharpening artifacts.\\nThis configuration should work well for enhancing and cutting your video in Google Colab.'"
            ]
          },
          "execution_count": 18,
          "metadata": {},
          "output_type": "execute_result"
        }
      ],
      "source": [
        "\"\"\" Explanation of the Code Sharpening:\n",
        "\n",
        "The sharpen_video function uses ffmpeg-python to apply an unsharp filter. Adjust the parameters:\n",
        "luma_msize_x and luma_msize_y: Control the matrix size for sharpening.\n",
        "luma_amount: Controls the sharpness intensity. Increase for more sharpening (e.g., 1.5 to 2).\n",
        "Splitting:\n",
        "\n",
        "The split_video function reads the CSV and uses the sharpened video as input for segment extraction.\n",
        "Parameters in the unsharp Filter\n",
        "luma_msize_x and luma_msize_y: Define the size of the blur kernel. Larger values\n",
        " apply more significant blurring, which is then subtracted to enhance edges.\n",
        "luma_amount: Controls the intensity of sharpening. A value of 1.0 is neutral;\n",
        "values above 1.0 increase sharpness.\n",
        "\n",
        "Running the Code\n",
        "Upload your files (segments.csv and input_video.mp4) to Google Drive.\n",
        "Update csv_path, input_video_path, and other paths in the code as needed.\n",
        "Run all cells in the notebook. The code will create a sharpened version of the input video, then save each segment from the sharpened video.\n",
        "\n",
        "Notes\n",
        "Performance: Sharpening can be resource-intensive, but the free Colab CPU runtime can handle moderate sharpening tasks.\n",
        "Adjust Sharpening: Experiment with luma_amount to control sharpness. Lower values may help avoid over-sharpening artifacts.\n",
        "This configuration should work well for enhancing and cutting your video in Google Colab.\n",
        "\"\"\"\n"
      ]
    },
    {
      "cell_type": "code",
      "execution_count": null,
      "metadata": {
        "id": "gIYdGgpbiIuc"
      },
      "outputs": [],
      "source": [
        "# Process each segment in the CSV file and output segment video file\n",
        "def split_video(input_path, segments_df, output_dir):\n",
        "    for _, row in segments_df.iterrows():\n",
        "        segment_title = row['segment_title']\n",
        "        start_time = row['starttime']\n",
        "        end_time = row['endtime']\n",
        "\n",
        "        # Generate output file name and path\n",
        "        output_filename = f\"{segment_title}.mp4\"\n",
        "        output_path = os.path.join(output_dir, output_filename)\n",
        "\n",
        "        # Extract the segment\n",
        "        ffmpeg_extract_subclip(input_path, start_time, end_time, targetname=output_path)\n",
        "        print(f\"Saved: {output_filename} from {start_time} to {end_time} seconds\")\n",
        "\n"
      ]
    },
    {
      "cell_type": "code",
      "execution_count": null,
      "metadata": {
        "colab": {
          "base_uri": "https://localhost:8080/",
          "height": 158
        },
        "id": "I4SWxeQsiPIC",
        "outputId": "308b47a8-e710-430a-b96a-56f7a0d1afd5"
      },
      "outputs": [
        {
          "ename": "NameError",
          "evalue": "name 'split_video' is not defined",
          "output_type": "error",
          "traceback": [
            "\u001b[0;31m---------------------------------------------------------------------------\u001b[0m",
            "\u001b[0;31mNameError\u001b[0m                                 Traceback (most recent call last)",
            "\u001b[0;32m<ipython-input-21-86ca84214464>\u001b[0m in \u001b[0;36m<cell line: 2>\u001b[0;34m()\u001b[0m\n\u001b[1;32m      1\u001b[0m \u001b[0;31m# Run the split function without sharpening.  skip if you want sharpening\u001b[0m\u001b[0;34m\u001b[0m\u001b[0;34m\u001b[0m\u001b[0m\n\u001b[0;32m----> 2\u001b[0;31m \u001b[0msplit_video\u001b[0m\u001b[0;34m(\u001b[0m\u001b[0minput_video_path\u001b[0m\u001b[0;34m,\u001b[0m \u001b[0msegments_df\u001b[0m\u001b[0;34m,\u001b[0m \u001b[0moutput_dir\u001b[0m\u001b[0;34m)\u001b[0m\u001b[0;34m\u001b[0m\u001b[0;34m\u001b[0m\u001b[0m\n\u001b[0m",
            "\u001b[0;31mNameError\u001b[0m: name 'split_video' is not defined"
          ]
        }
      ],
      "source": [
        "# Run the split function without sharpening.\n",
        "# skip if you want sharpening\n",
        "split_video(input_video_path, segments_df, output_dir)"
      ]
    },
    {
      "cell_type": "code",
      "execution_count": null,
      "metadata": {
        "id": "5hHC84Si2cyu"
      },
      "outputs": [],
      "source": [
        "# optional:  Sharpen the original video before cutting.  skip if unneeded.\n",
        "# Function to sharpen video using ffmpeg-python\n",
        "def sharpen_video(input_path, output_path):\n",
        "    (\n",
        "        ffmpeg\n",
        "        .input(input_path)\n",
        "        .filter('unsharp', luma_msize_x=5, luma_msize_y=5, luma_amount=2)\n",
        "        .output(output_path)\n",
        "        .run(overwrite_output=True)\n",
        "    )\n",
        "    print(f\"Sharpened video saved to {output_path}\")"
      ]
    },
    {
      "cell_type": "code",
      "execution_count": null,
      "metadata": {
        "id": "ZSv_o3mXwH0a"
      },
      "outputs": [],
      "source": [
        "import ffmpeg\n",
        "# Sharpened video output path\n",
        "sharpened_video_path = \"/content/drive/My Drive/sharpened_videos/sharpened_input_video.mp4\"\n",
        "\n",
        "# Create the directory if it doesn't exist\n",
        "os.makedirs(sharpened_video_path, exist_ok=True)\n",
        "\n",
        "# Step 1: Sharpen the video\n",
        "sharpen_video(input_video_path, sharpened_video_path)\n",
        "\n",
        "# Step 2: Load segments and split sharpened video\n",
        "segments_df = pd.read_csv(csv_path)\n",
        "split_video(sharpened_video_path, segments_df, output_dir)\n"
      ]
    },
    {
      "cell_type": "code",
      "execution_count": null,
      "metadata": {
        "id": "FeWXLL8R1yrN"
      },
      "outputs": [],
      "source": []
    }
  ],
  "metadata": {
    "colab": {
      "provenance": [],
      "authorship_tag": "ABX9TyPdMPtNbw2jgyk589PEZd5w",
      "include_colab_link": true
    },
    "kernelspec": {
      "display_name": "Python 3",
      "name": "python3"
    },
    "language_info": {
      "name": "python"
    }
  },
  "nbformat": 4,
  "nbformat_minor": 0
}